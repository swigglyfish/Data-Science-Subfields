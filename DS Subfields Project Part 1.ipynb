{
 "cells": [
  {
   "cell_type": "markdown",
   "metadata": {
    "collapsed": true
   },
   "source": [
    "# Most Popular Topics in Data Science - Part 1\n",
    "\n",
    "In the first portion of this project, I explore the <a href=\"https://datascience.stackexchange.com/\">Data Science</a> page on Stack Exchange in order to determine which data science topics are most relevant to the field of data science. Since data science is a fairly new scientific discipline, it is rapidly changing and thus it is paramount that students studying the field focus their efforts on the most applicable subfields."
   ]
  },
  {
   "cell_type": "markdown",
   "metadata": {},
   "source": [
    "## 1. Exploring Stack Exchange\n",
    "\n",
    "Before reading in any datasets or taking a look at data, I will examine the Stack Exchange website to determine if I can obtain any information that will be useful for my analysis. In this section, I will investigate both the home page and the Data Science subpage."
   ]
  },
  {
   "cell_type": "markdown",
   "metadata": {},
   "source": [
    "### a) Home Page\n",
    "\n",
    "Stack Exchange provides high-quality answers on a myriad of different topics. In order to ensure the quality of the site's answer, the site requests that users abide by the following guidelines in regards to asking and answering questions:\n",
    "- No chit chat. All answers and responses must be relevant to the topic being discussed.\n",
    "- Users can vote on the answers provided, and the most highly-rated answers will show up first.\n",
    "- The user who asked the question can mark one answer as accepted. This does not mean that this answer is the best answer to the question, but rather the most useful (or most timely) answer to the original questioner.\n",
    "- Users should avoid asking questions that are opinion-based, have multiple possible answers, or would require a lengthy answer.\n",
    "\n",
    "The site's guidelines make it an ideal location for tech workers looking for professional answers. Next, I will examine the Data Science Stack Exchange so that I will be able to more easily navigate the data when the time comes."
   ]
  },
  {
   "cell_type": "markdown",
   "metadata": {},
   "source": [
    "### b) Data Science Stack Exchange (DSSE)\n",
    "\n",
    "There are five sections on the DSSE page:\n",
    "- **Questions** = list of total questions asked and answers to those said questions.\n",
    "- **Tags** = list of keywords that categorize similar questions by subject matter. As of November 13, 2020, the ten most popular tags on the DSSE are:\n",
    "    - *machine-learning* = methods and principles of building \"computer systems that automatically improve with experience.\"\n",
    "    - *python* = use for data science questions related to the programming language Python.\n",
    "    - *neural-network* = composed of 'neurons' - programming constructs that mimic the properties of biological neurons.\n",
    "    - *deep-learning* = a new area of Machine Learning research concerned with the technologies used for learning hierarchical representations of data.\n",
    "    - *classification* = an instance of supervised learning that identifies the category or categories which a new instance of dataset belongs.\n",
    "    - *keras* = a minimalist, highly modular neural network library written in Python.\n",
    "    - *scikit-learn* = a Python module comprising of simple and efficient tool for machine learning, data mining and data analysis.\n",
    "    - *tensorflow* = an open source library for machine learning and machine intelligence.\n",
    "    - *nlp* = a field of computer science, artificial intelligence, and linguistics concerned with the interactions between computers and humans.\n",
    "    - *r* = a free, open-source programming language and software environment for statistical computing, bioinformatics, and graphics.\n",
    "- **Users** = list of users and their ratings\n",
    "- **Unanswered** = list of all questions that have been yet to be answered\n",
    "- **Jobs** = link to job listings for developers\n",
    "\n",
    "The only section that looks promising for my investigation is the tags section as it helps users determine what type of knowledge is required to answer the DSSE questions. In the next section, I will use the Stack Exchange Data Explorer to further examine the Tags section."
   ]
  },
  {
   "cell_type": "markdown",
   "metadata": {
    "collapsed": true
   },
   "source": [
    "## 2. Determining What Data to Analyze\n",
    "\n",
    "In this section, I will use <a href=\"https://data.stackexchange.com/datascience/query/new\">Stack Exchange Data Explorer</a> to help examine each dataset table for usefulness. I will write SQL queries to extract relevant data from these tables and then extract the data into a csv file so I can edit it using pandas.\n",
    "\n",
    "After exploring the table names and elements, the most relevant tables appear to be Posts and Tags, so I will examine both in greater detail. Since I'm writing all of my SQL queries in Stack Exchange Data Explorer instead of in Jupyter Notebook, I will type all the SQL queries I wrote in Stack Exchange Data Explorer into a Raw NBConvert cell so that it won't cause an error. Additionally, I will take screenshots of the tables that my SQL queries returned. Note that I spent a significant time on Stack Exchange Data Explorer writing queries in order to figure out which tables were relevant, and therefore the queries displayed here are my \"final drafts\"."
   ]
  },
  {
   "cell_type": "markdown",
   "metadata": {},
   "source": [
    "### a) Posts Table\n",
    "\n",
    "First, I will list the top ten rows of the Post table (with the highest number of views) that meet the following conditions:\n",
    "- Questions = I am interested in examining posts that are questions about data science topics. This is more useful than examining answers, as certain types of questions (such as popular ones or those that are easiest to answer) might receive more answers than others.\n",
    "- Posted in 2020 = Since data science is a rapidly changing field, the most relevant subjects of five years ago might not to be the most relevant topics of today. Therefore, I will only by examining posts from 2020.\n",
    "- Over 100 views = The number of views a question receives is likely positively correlated with the relevancy of the question to other users of Stack Exchange. Thus, questions with very few views won't be examined.\n",
    "- At least one answer = Questions could lack an answer for a variety of reasons, two of which are irrelevancy and the inability of users to answer the question. To help reduce the number questions I examine with at least one of these attributes, I will only examine questions with at least one answer."
   ]
  },
  {
   "cell_type": "raw",
   "metadata": {},
   "source": [
    "SELECT TOP 10 Id, Score, ViewCount, Tags, AnswerCount\n",
    "  FROM Posts\n",
    " WHERE PostTypeId = 1\n",
    "   AND YEAR(CreationDate) = 2020\n",
    "   AND ViewCount > 100\n",
    "   AND AnswerCount > 0\n",
    " ORDER BY ViewCount DESC; "
   ]
  },
  {
   "cell_type": "markdown",
   "metadata": {},
   "source": [
    "<img src=\"Photos/Posts.png\">"
   ]
  },
  {
   "cell_type": "markdown",
   "metadata": {},
   "source": [
    "This table looks very promising. I could use this table in order to figure out which tags are used most often, which tags have the most views, and which tags are often used in conjunction with on another."
   ]
  },
  {
   "cell_type": "markdown",
   "metadata": {},
   "source": [
    "### b) Tags Table\n",
    "\n",
    "Next, I will list the top ten rows of the Tags table with the highest count. "
   ]
  },
  {
   "cell_type": "raw",
   "metadata": {},
   "source": [
    "SELECT TOP 10 Id, TagName, Count\n",
    "  FROM Tags\n",
    " ORDER BY Count DESC"
   ]
  },
  {
   "cell_type": "markdown",
   "metadata": {},
   "source": [
    "<img src=\"Photos/Tags.png\">\n",
    "\n",
    "This table would be much more useful if it contained the dates in which these tags were created. Because it does not include this information, I cannot verify these tags remain popular today. Therefore, I will rely on data from the Posts table as in contains the most pertinent data."
   ]
  },
  {
   "cell_type": "markdown",
   "metadata": {},
   "source": [
    "### c) Importing the Data\n",
    "\n",
    "Finally, I downloaded the csv file of the table created by the SQL query displayed in the Posts subsection (the version I downloaded has all rows listed, rather than just the first 10 rows) and saved it as questions_2020.csv. Below, I will import the appropriate libraries and read the csv file."
   ]
  },
  {
   "cell_type": "code",
   "execution_count": 1,
   "metadata": {},
   "outputs": [
    {
     "data": {
      "text/html": [
       "<div>\n",
       "<style scoped>\n",
       "    .dataframe tbody tr th:only-of-type {\n",
       "        vertical-align: middle;\n",
       "    }\n",
       "\n",
       "    .dataframe tbody tr th {\n",
       "        vertical-align: top;\n",
       "    }\n",
       "\n",
       "    .dataframe thead th {\n",
       "        text-align: right;\n",
       "    }\n",
       "</style>\n",
       "<table border=\"1\" class=\"dataframe\">\n",
       "  <thead>\n",
       "    <tr style=\"text-align: right;\">\n",
       "      <th></th>\n",
       "      <th>Id</th>\n",
       "      <th>Score</th>\n",
       "      <th>ViewCount</th>\n",
       "      <th>Tags</th>\n",
       "      <th>AnswerCount</th>\n",
       "    </tr>\n",
       "  </thead>\n",
       "  <tbody>\n",
       "    <tr>\n",
       "      <td>0</td>\n",
       "      <td>68654</td>\n",
       "      <td>-1</td>\n",
       "      <td>15384</td>\n",
       "      <td>&lt;python&gt;&lt;pandas&gt;&lt;data-cleaning&gt;</td>\n",
       "      <td>1</td>\n",
       "    </tr>\n",
       "    <tr>\n",
       "      <td>1</td>\n",
       "      <td>66590</td>\n",
       "      <td>1</td>\n",
       "      <td>11254</td>\n",
       "      <td>&lt;r&gt;&lt;visualization&gt;&lt;ggplot2&gt;</td>\n",
       "      <td>1</td>\n",
       "    </tr>\n",
       "    <tr>\n",
       "      <td>2</td>\n",
       "      <td>66748</td>\n",
       "      <td>1</td>\n",
       "      <td>8144</td>\n",
       "      <td>&lt;tensorflow&gt;</td>\n",
       "      <td>4</td>\n",
       "    </tr>\n",
       "    <tr>\n",
       "      <td>3</td>\n",
       "      <td>66350</td>\n",
       "      <td>33</td>\n",
       "      <td>6728</td>\n",
       "      <td>&lt;machine-learning-model&gt;&lt;training&gt;&lt;supervised-...</td>\n",
       "      <td>7</td>\n",
       "    </tr>\n",
       "    <tr>\n",
       "      <td>4</td>\n",
       "      <td>76824</td>\n",
       "      <td>25</td>\n",
       "      <td>6242</td>\n",
       "      <td>&lt;machine-learning&gt;&lt;python&gt;&lt;r&gt;&lt;statistics&gt;&lt;data...</td>\n",
       "      <td>7</td>\n",
       "    </tr>\n",
       "    <tr>\n",
       "      <td>...</td>\n",
       "      <td>...</td>\n",
       "      <td>...</td>\n",
       "      <td>...</td>\n",
       "      <td>...</td>\n",
       "      <td>...</td>\n",
       "    </tr>\n",
       "    <tr>\n",
       "      <td>792</td>\n",
       "      <td>77172</td>\n",
       "      <td>2</td>\n",
       "      <td>101</td>\n",
       "      <td>&lt;regression&gt;&lt;predictive-modeling&gt;&lt;forecasting&gt;...</td>\n",
       "      <td>1</td>\n",
       "    </tr>\n",
       "    <tr>\n",
       "      <td>793</td>\n",
       "      <td>75461</td>\n",
       "      <td>0</td>\n",
       "      <td>101</td>\n",
       "      <td>&lt;deep-learning&gt;&lt;keras&gt;&lt;ensemble-modeling&gt;</td>\n",
       "      <td>1</td>\n",
       "    </tr>\n",
       "    <tr>\n",
       "      <td>794</td>\n",
       "      <td>67225</td>\n",
       "      <td>1</td>\n",
       "      <td>101</td>\n",
       "      <td>&lt;machine-learning&gt;&lt;tensorflow&gt;&lt;convolution&gt;</td>\n",
       "      <td>1</td>\n",
       "    </tr>\n",
       "    <tr>\n",
       "      <td>795</td>\n",
       "      <td>78489</td>\n",
       "      <td>0</td>\n",
       "      <td>101</td>\n",
       "      <td>&lt;python&gt;&lt;neural-network&gt;&lt;scikit-learn&gt;&lt;mlp&gt;</td>\n",
       "      <td>2</td>\n",
       "    </tr>\n",
       "    <tr>\n",
       "      <td>796</td>\n",
       "      <td>69675</td>\n",
       "      <td>6</td>\n",
       "      <td>101</td>\n",
       "      <td>&lt;statistics&gt;&lt;distance&gt;&lt;self-study&gt;</td>\n",
       "      <td>2</td>\n",
       "    </tr>\n",
       "  </tbody>\n",
       "</table>\n",
       "<p>797 rows × 5 columns</p>\n",
       "</div>"
      ],
      "text/plain": [
       "        Id  Score  ViewCount  \\\n",
       "0    68654     -1      15384   \n",
       "1    66590      1      11254   \n",
       "2    66748      1       8144   \n",
       "3    66350     33       6728   \n",
       "4    76824     25       6242   \n",
       "..     ...    ...        ...   \n",
       "792  77172      2        101   \n",
       "793  75461      0        101   \n",
       "794  67225      1        101   \n",
       "795  78489      0        101   \n",
       "796  69675      6        101   \n",
       "\n",
       "                                                  Tags  AnswerCount  \n",
       "0                      <python><pandas><data-cleaning>            1  \n",
       "1                          <r><visualization><ggplot2>            1  \n",
       "2                                         <tensorflow>            4  \n",
       "3    <machine-learning-model><training><supervised-...            7  \n",
       "4    <machine-learning><python><r><statistics><data...            7  \n",
       "..                                                 ...          ...  \n",
       "792  <regression><predictive-modeling><forecasting>...            1  \n",
       "793          <deep-learning><keras><ensemble-modeling>            1  \n",
       "794        <machine-learning><tensorflow><convolution>            1  \n",
       "795        <python><neural-network><scikit-learn><mlp>            2  \n",
       "796                 <statistics><distance><self-study>            2  \n",
       "\n",
       "[797 rows x 5 columns]"
      ]
     },
     "execution_count": 1,
     "metadata": {},
     "output_type": "execute_result"
    }
   ],
   "source": [
    "import pandas as pd\n",
    "import numpy as np\n",
    "import matplotlib.pyplot as plt\n",
    "import seaborn as sns\n",
    "\n",
    "questions = pd.read_csv(\"questions_2020.csv\")\n",
    "questions"
   ]
  },
  {
   "cell_type": "markdown",
   "metadata": {},
   "source": [
    "Now that I have determined which data I will be working with, I can begin analyzing."
   ]
  },
  {
   "cell_type": "markdown",
   "metadata": {},
   "source": [
    "## 3. Determining the Relevancy of Each DSSE Tag\n",
    "\n",
    "\n",
    "There are two metrics that I will use to determine the relevancy of a tag:\n",
    "- Number of tags = number of times a tag was attached to a question (indicates more projects requiring this skill)\n",
    "- Number of views = total number of views each tag received in all posts (indicates more people found the question relevant)\n",
    "\n",
    "In order to determine how relevant each DSSE tag is to the field of data science, I will parse through the \"Tags\" column in the questions dataset and create two dictionaries. The first will contain the total number of questions that involve the data science topic. The second will contain the total number of views all questions that involved the data science topic received."
   ]
  },
  {
   "cell_type": "markdown",
   "metadata": {},
   "source": [
    "### a) Creating Tables that Show Relevancy\n",
    "\n",
    "The two dictionaries I create will be used to gather data from the \"Tags\" column in the questions_2020 dataset. The first dictionary will contain the total numbers of times each tag was used while the second will contain the total number of views each tag received."
   ]
  },
  {
   "cell_type": "code",
   "execution_count": 2,
   "metadata": {},
   "outputs": [],
   "source": [
    "count_tag = {}\n",
    "views_tag = {}\n",
    "count = 0\n",
    "\n",
    "for row in questions[\"Tags\"]:\n",
    "    # Transforms the conjoined tags into a list of individual tags\n",
    "    tags = row.replace(\"><\", \" \").replace(\"<\", \"\").replace(\">\", \"\").split(\" \")\n",
    "    for tag in tags:\n",
    "        if tag in count_tag:\n",
    "            count_tag[tag] += 1\n",
    "            views_tag[tag] += questions[\"ViewCount\"].iloc[count]\n",
    "        else:\n",
    "            count_tag[tag] = 1\n",
    "            views_tag[tag] = questions[\"ViewCount\"].iloc[count]\n",
    "    count += 1"
   ]
  },
  {
   "cell_type": "markdown",
   "metadata": {},
   "source": [
    "Next, I will convert both dictionaries into pandas dataframes so they can be concatonated. This will enable me to  create a table that neatly summarizes all relevant information."
   ]
  },
  {
   "cell_type": "code",
   "execution_count": 3,
   "metadata": {},
   "outputs": [],
   "source": [
    "# Convert each dictionary to a dataframe\n",
    "tags = pd.DataFrame.from_dict(count_tag, orient=\"index\")\n",
    "views = pd.DataFrame.from_dict(views_tag, orient=\"index\")\n",
    "\n",
    "# Rename the columns of each dataframe\n",
    "tags.rename(columns={0: \"Count\"}, inplace=True)\n",
    "views.rename(columns={0: \"Views\"}, inplace=True)\n",
    "\n",
    "# Order the dataframes by their respective metric\n",
    "tag_count = tags.sort_values(by=\"Count\", ascending=False)\n",
    "tag_views = views.sort_values(by=\"Views\", ascending=False)"
   ]
  },
  {
   "cell_type": "code",
   "execution_count": 4,
   "metadata": {},
   "outputs": [
    {
     "name": "stderr",
     "output_type": "stream",
     "text": [
      "/opt/anaconda3/lib/python3.7/site-packages/ipykernel_launcher.py:2: FutureWarning: Sorting because non-concatenation axis is not aligned. A future version\n",
      "of pandas will change to not sort by default.\n",
      "\n",
      "To accept the future behavior, pass 'sort=False'.\n",
      "\n",
      "To retain the current behavior and silence the warning, pass 'sort=True'.\n",
      "\n",
      "  \n"
     ]
    },
    {
     "data": {
      "text/html": [
       "<div>\n",
       "<style scoped>\n",
       "    .dataframe tbody tr th:only-of-type {\n",
       "        vertical-align: middle;\n",
       "    }\n",
       "\n",
       "    .dataframe tbody tr th {\n",
       "        vertical-align: top;\n",
       "    }\n",
       "\n",
       "    .dataframe thead th {\n",
       "        text-align: right;\n",
       "    }\n",
       "</style>\n",
       "<table border=\"1\" class=\"dataframe\">\n",
       "  <thead>\n",
       "    <tr style=\"text-align: right;\">\n",
       "      <th></th>\n",
       "      <th>Count</th>\n",
       "      <th>Views</th>\n",
       "    </tr>\n",
       "  </thead>\n",
       "  <tbody>\n",
       "    <tr>\n",
       "      <td>machine-learning</td>\n",
       "      <td>263</td>\n",
       "      <td>104873</td>\n",
       "    </tr>\n",
       "    <tr>\n",
       "      <td>python</td>\n",
       "      <td>202</td>\n",
       "      <td>120591</td>\n",
       "    </tr>\n",
       "    <tr>\n",
       "      <td>deep-learning</td>\n",
       "      <td>107</td>\n",
       "      <td>45476</td>\n",
       "    </tr>\n",
       "    <tr>\n",
       "      <td>scikit-learn</td>\n",
       "      <td>91</td>\n",
       "      <td>41802</td>\n",
       "    </tr>\n",
       "    <tr>\n",
       "      <td>keras</td>\n",
       "      <td>91</td>\n",
       "      <td>74376</td>\n",
       "    </tr>\n",
       "    <tr>\n",
       "      <td>...</td>\n",
       "      <td>...</td>\n",
       "      <td>...</td>\n",
       "    </tr>\n",
       "    <tr>\n",
       "      <td>aws</td>\n",
       "      <td>1</td>\n",
       "      <td>115</td>\n",
       "    </tr>\n",
       "    <tr>\n",
       "      <td>information-theory</td>\n",
       "      <td>1</td>\n",
       "      <td>176</td>\n",
       "    </tr>\n",
       "    <tr>\n",
       "      <td>pooling</td>\n",
       "      <td>1</td>\n",
       "      <td>1294</td>\n",
       "    </tr>\n",
       "    <tr>\n",
       "      <td>json</td>\n",
       "      <td>1</td>\n",
       "      <td>161</td>\n",
       "    </tr>\n",
       "    <tr>\n",
       "      <td>cosine-distance</td>\n",
       "      <td>1</td>\n",
       "      <td>245</td>\n",
       "    </tr>\n",
       "  </tbody>\n",
       "</table>\n",
       "<p>313 rows × 2 columns</p>\n",
       "</div>"
      ],
      "text/plain": [
       "                    Count   Views\n",
       "machine-learning      263  104873\n",
       "python                202  120591\n",
       "deep-learning         107   45476\n",
       "scikit-learn           91   41802\n",
       "keras                  91   74376\n",
       "...                   ...     ...\n",
       "aws                     1     115\n",
       "information-theory      1     176\n",
       "pooling                 1    1294\n",
       "json                    1     161\n",
       "cosine-distance         1     245\n",
       "\n",
       "[313 rows x 2 columns]"
      ]
     },
     "execution_count": 4,
     "metadata": {},
     "output_type": "execute_result"
    }
   ],
   "source": [
    "# Concatonate dataframes and sort values by number of tags\n",
    "tag_metrics = pd.concat([tag_count, tag_views], axis=1)\n",
    "tag_metrics = tag_metrics.sort_values(by=\"Count\", ascending=False)\n",
    "tag_metrics"
   ]
  },
  {
   "cell_type": "markdown",
   "metadata": {},
   "source": [
    "As seen above, the most frequently used data science topics don't necessarily have the highest number of total views. For example, questions about machine-learning were asked more frequently than those about python, but questions about python received the more total views."
   ]
  },
  {
   "cell_type": "markdown",
   "metadata": {},
   "source": [
    "### b) Bar Chart that Demonstrates Tag Relevancy\n",
    "\n",
    "Next, I will organize the data so I can easily create a bar chart that contains the top ten data science topics for each of the two metrics."
   ]
  },
  {
   "cell_type": "code",
   "execution_count": 5,
   "metadata": {},
   "outputs": [],
   "source": [
    "tag_names = list(tag_count.index) # Names of tags"
   ]
  },
  {
   "cell_type": "code",
   "execution_count": 6,
   "metadata": {},
   "outputs": [],
   "source": [
    "# Frequecies of the tags\n",
    "tag_values = []\n",
    "for name in tag_names:\n",
    "    tag_values.append(count_tag[name])"
   ]
  },
  {
   "cell_type": "code",
   "execution_count": 7,
   "metadata": {},
   "outputs": [],
   "source": [
    "# Views of the tags\n",
    "view_values = []\n",
    "for name in tag_names:\n",
    "    view_values.append(views_tag[name])"
   ]
  },
  {
   "cell_type": "markdown",
   "metadata": {},
   "source": [
    "Before creating my bar chart, I will create an autolabel function that places the value of each individual bar above the bar itself. For example, if a given tag has 55 total instances, the bar showing that tag will have a number 55 above it. This will eliminate the need for axis labels, which will make the chart look cleaner."
   ]
  },
  {
   "cell_type": "code",
   "execution_count": 8,
   "metadata": {},
   "outputs": [],
   "source": [
    "def autolabel(bars, ax):\n",
    "    for bar in bars:\n",
    "        height = bar.get_height()\n",
    "        if height >= 1000:\n",
    "            new_height = str(round((height / 1000.0), 1)) + \"K\"\n",
    "        else:\n",
    "            new_height = str(height)\n",
    "        \n",
    "        ax.annotate(new_height,\n",
    "                    xy=(bar.get_x() + bar.get_width() / 2, height), # XY position for placing text\n",
    "                    xytext=(0, 3),  # Places percentage 3 points vertically\n",
    "                    textcoords=\"offset points\",\n",
    "                    ha='center', va='bottom',\n",
    "                    fontsize=15)"
   ]
  },
  {
   "cell_type": "code",
   "execution_count": 9,
   "metadata": {},
   "outputs": [
    {
     "data": {
      "image/png": "[encoded data removed]",
      "text/plain": [
       "<Figure size 1440x720 with 2 Axes>"
      ]
     },
     "metadata": {
      "needs_background": "light"
     },
     "output_type": "display_data"
    }
   ],
   "source": [
    "ind = np.arange(10)\n",
    "width=(3/7)\n",
    "\n",
    "fig, ax1 = plt.subplots(figsize=(20, 10))\n",
    "ax2 = ax1.twinx()\n",
    "\n",
    "tags = ax1.bar(ind-width/2, tag_values[:10], width, color='teal', edgecolor=\"black\", label=\"Tag Count\")\n",
    "views = ax2.bar(ind + width/2, view_values[:10], width, color='DarkOliveGreen', edgecolor=\"black\", label=\"Tag Views\") \n",
    "\n",
    "ax1.set_xticks(ind)\n",
    "ax1.set_title('Most Popular DSSE Tags in 2020', fontsize=30, y=1.01)\n",
    "ax1.set_xticklabels(tag_names[:10], fontsize=18)\n",
    "\n",
    "ax1.tick_params(axis=\"both\", which=\"both\", top=False, bottom=False, left=False, labelleft=False)\n",
    "ax2.tick_params(axis=\"both\", which=\"both\", top=False, bottom=False, right=False, left=False, labelright=False)\n",
    "\n",
    "ax1.legend(loc=(0.8, 0.85), fontsize=24, frameon=False)\n",
    "ax2.legend(loc=(0.8, 0.8), fontsize=24, frameon=False)\n",
    "\n",
    "autolabel(tags, ax1)\n",
    "autolabel(views, ax2)\n",
    "\n",
    "fig.tight_layout()\n",
    "plt.show()"
   ]
  },
  {
   "cell_type": "markdown",
   "metadata": {},
   "source": [
    "While there is a strong positive correlation between the number of instances of a tag and that tag's total number of views, this relationship is not perfect. Therefore, it is very difficult to rank the data science topics. For example, while the pandas tag only has the 10th most instances, it has the 4th most total views. In the next section, I will develop a ranking system that weighs both metrics equally and then recreate this diagram using this new ranking system."
   ]
  },
  {
   "cell_type": "markdown",
   "metadata": {},
   "source": [
    "## 4. Adjusting the Ranking System\n",
    "\n",
    "Which topic is the most relevant, machine-learning or python? While the machine-learning tag has been used on 51 more questions than the python tag has, the python tag has over 15K more total views than the machine-learning tag does. This makes it rather difficult to determine which subfield is more relevant. To determine this, I will create a ranking system based on a combination of the distributions of both tag count and total number of views."
   ]
  },
  {
   "cell_type": "markdown",
   "metadata": {},
   "source": [
    "### a) Developing the Ranking System\n",
    "\n",
    "To create this new distribution, I will need to do the following:\n",
    "1. Calculate the mean and standard deviation of both metrics\n",
    "2. Convert each of the metric's distributions into a normal distribution (find the z-score for each value)\n",
    "3. Add the two normalalized distributions togther and use those values as the score\n",
    "4. Adjust the score (using scalars and constants) so the minimum score is 0 and the maximum value is 100\n",
    "\n",
    "The distributions of tag count and tag views are on very different scales, with the former being on a scale from 1 to 263 and the later being on a scale from 101 to 120591. However, by normalizing both distributions, both distributions will have a mean of 0 and a standard deviation of 1, thus making them comparable.\n",
    "\n",
    "First, I will calculate the mean and standard deviations of both metrics and then normalize both distributions."
   ]
  },
  {
   "cell_type": "code",
   "execution_count": 10,
   "metadata": {},
   "outputs": [],
   "source": [
    "count_mean = tag_count.mean()\n",
    "count_std = tag_count.std(ddof=1)\n",
    "\n",
    "views_mean = tag_views.mean()\n",
    "views_std = tag_views.std(ddof=1)\n",
    "\n",
    "z_count = {}\n",
    "\n",
    "for key, value in count_tag.items():\n",
    "    z_count[key] = round(((value - count_mean) / count_std)[0], 2)\n",
    "\n",
    "z_views = {}\n",
    "\n",
    "for key, value in views_tag.items():\n",
    "    z_views[key] = round(((value - views_mean) / views_std)[0], 2)"
   ]
  },
  {
   "cell_type": "markdown",
   "metadata": {},
   "source": [
    "Second, I will convert both dictionaries into a pandas dataframe so that they are easier to view as a table."
   ]
  },
  {
   "cell_type": "code",
   "execution_count": 11,
   "metadata": {},
   "outputs": [],
   "source": [
    "z_count2 = pd.DataFrame.from_dict(z_count, orient=\"index\")\n",
    "z_views2 = pd.DataFrame.from_dict(z_views, orient=\"index\")"
   ]
  },
  {
   "cell_type": "markdown",
   "metadata": {},
   "source": [
    "To ensure I properly normalized each distribution, I will check to see if both distributions have a mean close to 0 as well as a standard deviation close to 1."
   ]
  },
  {
   "cell_type": "code",
   "execution_count": 12,
   "metadata": {},
   "outputs": [
    {
     "name": "stdout",
     "output_type": "stream",
     "text": [
      "0    0.000575\n",
      "dtype: float64 0    0.999803\n",
      "dtype: float64\n",
      "\n",
      "\n",
      "0   -0.000415\n",
      "dtype: float64 0    1.000058\n",
      "dtype: float64\n"
     ]
    }
   ],
   "source": [
    "print(z_count2.mean(), z_count2.std(ddof=1))\n",
    "print(\"\\n\")\n",
    "print(z_views2.mean(), z_views2.std(ddof=1))"
   ]
  },
  {
   "cell_type": "markdown",
   "metadata": {},
   "source": [
    "As seen above, the mean and standard deviations for both normalized distributions are roughly zero and one respectively and thus the two distributions are comparable. The discrepancy between the expected mean/standard deviation and the values above is due to imprecise rounding.\n",
    "\n",
    "Next, I will combine the two distributions and convert the new distribution into a dataframe."
   ]
  },
  {
   "cell_type": "code",
   "execution_count": 13,
   "metadata": {},
   "outputs": [],
   "source": [
    "z_total = {}\n",
    "\n",
    "for key in z_count:\n",
    "    z_total[key] = round(z_count[key] + z_views[key], 2)"
   ]
  },
  {
   "cell_type": "code",
   "execution_count": 14,
   "metadata": {},
   "outputs": [
    {
     "data": {
      "text/html": [
       "<div>\n",
       "<style scoped>\n",
       "    .dataframe tbody tr th:only-of-type {\n",
       "        vertical-align: middle;\n",
       "    }\n",
       "\n",
       "    .dataframe tbody tr th {\n",
       "        vertical-align: top;\n",
       "    }\n",
       "\n",
       "    .dataframe thead th {\n",
       "        text-align: right;\n",
       "    }\n",
       "</style>\n",
       "<table border=\"1\" class=\"dataframe\">\n",
       "  <thead>\n",
       "    <tr style=\"text-align: right;\">\n",
       "      <th></th>\n",
       "      <th>0</th>\n",
       "    </tr>\n",
       "  </thead>\n",
       "  <tbody>\n",
       "    <tr>\n",
       "      <td>machine-learning</td>\n",
       "      <td>19.80</td>\n",
       "    </tr>\n",
       "    <tr>\n",
       "      <td>python</td>\n",
       "      <td>18.43</td>\n",
       "    </tr>\n",
       "    <tr>\n",
       "      <td>keras</td>\n",
       "      <td>9.58</td>\n",
       "    </tr>\n",
       "    <tr>\n",
       "      <td>deep-learning</td>\n",
       "      <td>7.84</td>\n",
       "    </tr>\n",
       "    <tr>\n",
       "      <td>scikit-learn</td>\n",
       "      <td>6.82</td>\n",
       "    </tr>\n",
       "    <tr>\n",
       "      <td>...</td>\n",
       "      <td>...</td>\n",
       "    </tr>\n",
       "    <tr>\n",
       "      <td>bioinformatics</td>\n",
       "      <td>-0.71</td>\n",
       "    </tr>\n",
       "    <tr>\n",
       "      <td>text-filter</td>\n",
       "      <td>-0.71</td>\n",
       "    </tr>\n",
       "    <tr>\n",
       "      <td>text-generation</td>\n",
       "      <td>-0.71</td>\n",
       "    </tr>\n",
       "    <tr>\n",
       "      <td>game</td>\n",
       "      <td>-0.71</td>\n",
       "    </tr>\n",
       "    <tr>\n",
       "      <td>self-study</td>\n",
       "      <td>-0.71</td>\n",
       "    </tr>\n",
       "  </tbody>\n",
       "</table>\n",
       "<p>313 rows × 1 columns</p>\n",
       "</div>"
      ],
      "text/plain": [
       "                      0\n",
       "machine-learning  19.80\n",
       "python            18.43\n",
       "keras              9.58\n",
       "deep-learning      7.84\n",
       "scikit-learn       6.82\n",
       "...                 ...\n",
       "bioinformatics    -0.71\n",
       "text-filter       -0.71\n",
       "text-generation   -0.71\n",
       "game              -0.71\n",
       "self-study        -0.71\n",
       "\n",
       "[313 rows x 1 columns]"
      ]
     },
     "execution_count": 14,
     "metadata": {},
     "output_type": "execute_result"
    }
   ],
   "source": [
    "z_total2 = pd.DataFrame.from_dict(z_total, orient=\"index\")\n",
    "z_total2.sort_values(by=0, ascending=False)"
   ]
  },
  {
   "cell_type": "markdown",
   "metadata": {},
   "source": [
    "For aesthetic purposes, I will adjust the distribution to that it is on a scale from 0 to 100. The function I will create in order to do so will complete the following steps:\n",
    "- Subtract each value in the distribution by the minimum (-0.71 in this example) so that the minimum value is 0\n",
    "- Multiple every value by the value of (100 / maximum value) so that the maximum value will become 100\n",
    "- Sort the values in the new distribution by descending order\n",
    "\n",
    "This function will return a distribution with values ranging from 0 to 100 without significantly changing the magnitude of the individual scores in relation to one another."
   ]
  },
  {
   "cell_type": "code",
   "execution_count": 15,
   "metadata": {},
   "outputs": [],
   "source": [
    "def scalar_distribution(dist):\n",
    "    new_dist = dist - dist.min()\n",
    "    return round(new_dist*(100/new_dist.max()), 2).sort_values(by=0, ascending=False)"
   ]
  },
  {
   "cell_type": "code",
   "execution_count": 16,
   "metadata": {},
   "outputs": [
    {
     "data": {
      "text/html": [
       "<div>\n",
       "<style scoped>\n",
       "    .dataframe tbody tr th:only-of-type {\n",
       "        vertical-align: middle;\n",
       "    }\n",
       "\n",
       "    .dataframe tbody tr th {\n",
       "        vertical-align: top;\n",
       "    }\n",
       "\n",
       "    .dataframe thead th {\n",
       "        text-align: right;\n",
       "    }\n",
       "</style>\n",
       "<table border=\"1\" class=\"dataframe\">\n",
       "  <thead>\n",
       "    <tr style=\"text-align: right;\">\n",
       "      <th></th>\n",
       "      <th>0</th>\n",
       "    </tr>\n",
       "  </thead>\n",
       "  <tbody>\n",
       "    <tr>\n",
       "      <td>machine-learning</td>\n",
       "      <td>100.00</td>\n",
       "    </tr>\n",
       "    <tr>\n",
       "      <td>python</td>\n",
       "      <td>93.32</td>\n",
       "    </tr>\n",
       "    <tr>\n",
       "      <td>keras</td>\n",
       "      <td>50.17</td>\n",
       "    </tr>\n",
       "    <tr>\n",
       "      <td>deep-learning</td>\n",
       "      <td>41.69</td>\n",
       "    </tr>\n",
       "    <tr>\n",
       "      <td>scikit-learn</td>\n",
       "      <td>36.71</td>\n",
       "    </tr>\n",
       "    <tr>\n",
       "      <td>...</td>\n",
       "      <td>...</td>\n",
       "    </tr>\n",
       "    <tr>\n",
       "      <td>bioinformatics</td>\n",
       "      <td>0.00</td>\n",
       "    </tr>\n",
       "    <tr>\n",
       "      <td>text-filter</td>\n",
       "      <td>0.00</td>\n",
       "    </tr>\n",
       "    <tr>\n",
       "      <td>text-generation</td>\n",
       "      <td>0.00</td>\n",
       "    </tr>\n",
       "    <tr>\n",
       "      <td>game</td>\n",
       "      <td>0.00</td>\n",
       "    </tr>\n",
       "    <tr>\n",
       "      <td>self-study</td>\n",
       "      <td>0.00</td>\n",
       "    </tr>\n",
       "  </tbody>\n",
       "</table>\n",
       "<p>313 rows × 1 columns</p>\n",
       "</div>"
      ],
      "text/plain": [
       "                       0\n",
       "machine-learning  100.00\n",
       "python             93.32\n",
       "keras              50.17\n",
       "deep-learning      41.69\n",
       "scikit-learn       36.71\n",
       "...                  ...\n",
       "bioinformatics      0.00\n",
       "text-filter         0.00\n",
       "text-generation     0.00\n",
       "game                0.00\n",
       "self-study          0.00\n",
       "\n",
       "[313 rows x 1 columns]"
      ]
     },
     "execution_count": 16,
     "metadata": {},
     "output_type": "execute_result"
    }
   ],
   "source": [
    "z_total = scalar_distribution(z_total2)\n",
    "z_total"
   ]
  },
  {
   "cell_type": "markdown",
   "metadata": {},
   "source": [
    "I will repeat the same process for the z_count2 and z_views2 distributions. Then I will concatonate the three scores together so I can easily compare the top ten values in each distribution."
   ]
  },
  {
   "cell_type": "code",
   "execution_count": 17,
   "metadata": {},
   "outputs": [],
   "source": [
    "z_count = scalar_distribution(z_count2)\n",
    "z_views = scalar_distribution(z_views2)"
   ]
  },
  {
   "cell_type": "code",
   "execution_count": 18,
   "metadata": {},
   "outputs": [
    {
     "name": "stderr",
     "output_type": "stream",
     "text": [
      "/opt/anaconda3/lib/python3.7/site-packages/ipykernel_launcher.py:1: FutureWarning: Sorting because non-concatenation axis is not aligned. A future version\n",
      "of pandas will change to not sort by default.\n",
      "\n",
      "To accept the future behavior, pass 'sort=False'.\n",
      "\n",
      "To retain the current behavior and silence the warning, pass 'sort=True'.\n",
      "\n",
      "  \"\"\"Entry point for launching an IPython kernel.\n"
     ]
    }
   ],
   "source": [
    "new_score = pd.concat([z_count, z_views, z_total], axis=1)\n",
    "new_score.columns = [\"Count Score\", \"Views Score\", 'Total Score']\n",
    "new_score = new_score.sort_values(by=\"Total Score\", ascending=False)"
   ]
  },
  {
   "cell_type": "code",
   "execution_count": 19,
   "metadata": {},
   "outputs": [
    {
     "data": {
      "text/html": [
       "<div>\n",
       "<style scoped>\n",
       "    .dataframe tbody tr th:only-of-type {\n",
       "        vertical-align: middle;\n",
       "    }\n",
       "\n",
       "    .dataframe tbody tr th {\n",
       "        vertical-align: top;\n",
       "    }\n",
       "\n",
       "    .dataframe thead th {\n",
       "        text-align: right;\n",
       "    }\n",
       "</style>\n",
       "<table border=\"1\" class=\"dataframe\">\n",
       "  <thead>\n",
       "    <tr style=\"text-align: right;\">\n",
       "      <th></th>\n",
       "      <th>Count Score</th>\n",
       "      <th>Views Score</th>\n",
       "      <th>Total Score</th>\n",
       "    </tr>\n",
       "  </thead>\n",
       "  <tbody>\n",
       "    <tr>\n",
       "      <td>machine-learning</td>\n",
       "      <td>100.00</td>\n",
       "      <td>86.99</td>\n",
       "      <td>100.00</td>\n",
       "    </tr>\n",
       "    <tr>\n",
       "      <td>python</td>\n",
       "      <td>76.76</td>\n",
       "      <td>100.00</td>\n",
       "      <td>93.32</td>\n",
       "    </tr>\n",
       "    <tr>\n",
       "      <td>keras</td>\n",
       "      <td>34.34</td>\n",
       "      <td>61.64</td>\n",
       "      <td>50.17</td>\n",
       "    </tr>\n",
       "    <tr>\n",
       "      <td>deep-learning</td>\n",
       "      <td>40.45</td>\n",
       "      <td>37.67</td>\n",
       "      <td>41.69</td>\n",
       "    </tr>\n",
       "    <tr>\n",
       "      <td>scikit-learn</td>\n",
       "      <td>34.34</td>\n",
       "      <td>34.64</td>\n",
       "      <td>36.71</td>\n",
       "    </tr>\n",
       "    <tr>\n",
       "      <td>tensorflow</td>\n",
       "      <td>26.68</td>\n",
       "      <td>38.45</td>\n",
       "      <td>34.28</td>\n",
       "    </tr>\n",
       "    <tr>\n",
       "      <td>pandas</td>\n",
       "      <td>19.10</td>\n",
       "      <td>43.54</td>\n",
       "      <td>32.52</td>\n",
       "    </tr>\n",
       "    <tr>\n",
       "      <td>neural-network</td>\n",
       "      <td>27.11</td>\n",
       "      <td>25.93</td>\n",
       "      <td>28.28</td>\n",
       "    </tr>\n",
       "    <tr>\n",
       "      <td>nlp</td>\n",
       "      <td>23.24</td>\n",
       "      <td>25.73</td>\n",
       "      <td>25.99</td>\n",
       "    </tr>\n",
       "    <tr>\n",
       "      <td>classification</td>\n",
       "      <td>24.78</td>\n",
       "      <td>22.02</td>\n",
       "      <td>25.01</td>\n",
       "    </tr>\n",
       "  </tbody>\n",
       "</table>\n",
       "</div>"
      ],
      "text/plain": [
       "                  Count Score  Views Score  Total Score\n",
       "machine-learning       100.00        86.99       100.00\n",
       "python                  76.76       100.00        93.32\n",
       "keras                   34.34        61.64        50.17\n",
       "deep-learning           40.45        37.67        41.69\n",
       "scikit-learn            34.34        34.64        36.71\n",
       "tensorflow              26.68        38.45        34.28\n",
       "pandas                  19.10        43.54        32.52\n",
       "neural-network          27.11        25.93        28.28\n",
       "nlp                     23.24        25.73        25.99\n",
       "classification          24.78        22.02        25.01"
      ]
     },
     "execution_count": 19,
     "metadata": {},
     "output_type": "execute_result"
    }
   ],
   "source": [
    "new_score.head(10)"
   ]
  },
  {
   "cell_type": "markdown",
   "metadata": {},
   "source": [
    "The chart above shows the top ten most popular topics on the DSSE page. Note that while account for the total number of views changes the order of the top ten, it does not affect which tags are in the top ten. All tags above were in the top ten of the original table I created.\n",
    "\n",
    "Machine-learning remains the most important skill and python remains a close second, leading the rest by a large margin."
   ]
  },
  {
   "cell_type": "markdown",
   "metadata": {},
   "source": [
    "### b) Displaying the Ranking System\n",
    "\n",
    "Next, I will create bar charts for the top ten most popular tags for all three of the normalized ranking systems (Count Score, Views Score, Total Score). First, I will need to create arrays containing the scores of all three ranking systems so that the charts can be easily created."
   ]
  },
  {
   "cell_type": "code",
   "execution_count": 20,
   "metadata": {},
   "outputs": [],
   "source": [
    "names = [new_score.index][0]\n",
    "\n",
    "tags_z = []\n",
    "views_z = []\n",
    "total_z = []\n",
    "\n",
    "for i in range(len(names)):\n",
    "    row = list(list(new_score.values)[i])\n",
    "    \n",
    "    tags_z.append(row[0])\n",
    "    views_z.append(row[1])\n",
    "    total_z.append(row[2])"
   ]
  },
  {
   "cell_type": "markdown",
   "metadata": {},
   "source": [
    "Next, I will create a new autolabel function that is different from the previous in the following ways:\n",
    "- Does not require an axis (dual axis is unnecessary since all ranking systems have the same range of possible scores).\n",
    "- If the value of total is set to True, the autolabel text will appear in the center of each bar, will be considerably larger, and will be a different color. This is to ensure the text of the Total Score doesn't collide with the text labels of Count Score and Views Score, as well as to ensure the Total Score is easily visible on each graph.\n",
    "- Round to nearest tenth's place and no need for the portion of the previous function that adjusted values over 1000."
   ]
  },
  {
   "cell_type": "code",
   "execution_count": 21,
   "metadata": {},
   "outputs": [],
   "source": [
    "def new_autolabel(bars, total=False):\n",
    "    \"\"\"Attach a text label above each bar in *rects*, displaying its height.\"\"\"\n",
    "    for bar in bars:\n",
    "        height = bar.get_height()\n",
    "        \n",
    "        if total == True:\n",
    "            font=24\n",
    "            color=\"white\"\n",
    "            offset=(0,-height*3.5)\n",
    "        else:\n",
    "            font=18\n",
    "            color=\"black\"\n",
    "            offset=(0,5)\n",
    "        \n",
    "        ax.annotate(round(height, 1),\n",
    "                    xy=(bar.get_x() + bar.get_width() / 2, height), # XY position for placing text\n",
    "                    xytext=offset,  # Places percentage 3 points vertically\n",
    "                    textcoords=\"offset points\",\n",
    "                    ha='center', va='bottom',\n",
    "                    fontsize=font, color=color)"
   ]
  },
  {
   "cell_type": "code",
   "execution_count": 22,
   "metadata": {},
   "outputs": [
    {
     "data": {
      "image/png": "[encoded data removed]",
      "text/plain": [
       "<Figure size 1440x720 with 1 Axes>"
      ]
     },
     "metadata": {
      "needs_background": "light"
     },
     "output_type": "display_data"
    }
   ],
   "source": [
    "ind = np.arange(10)\n",
    "width=(3/7)\n",
    "\n",
    "fig, ax = plt.subplots(figsize=(20, 10))\n",
    "\n",
    "total = ax.bar(ind, total_z[:10], 0.96, color='lightgrey', label=\"Total Score\")\n",
    "tags = ax.bar(ind-width/2, tags_z[:10], width, color='teal', edgecolor=\"black\", label=\"Count Score\")\n",
    "views = ax.bar(ind+width/2, views_z[:10], width, color='DarkOliveGreen', edgecolor=\"black\", label=\"Views Score\")\n",
    "\n",
    "ax.set_xticks(ind)\n",
    "ax.set_title('Top DSSE Tags of 2020 by Score', fontsize=24, y=1.01)\n",
    "ax.set_xticklabels(names[:10], fontsize=18)\n",
    "\n",
    "ax.tick_params(axis=\"both\", which=\"both\", top=False, bottom=False, left=False, labelleft=False)\n",
    "\n",
    "ax.legend(fontsize=18)\n",
    "\n",
    "new_autolabel(tags)\n",
    "new_autolabel(views)\n",
    "new_autolabel(total, True)\n",
    "\n",
    "fig.tight_layout()\n",
    "plt.show()"
   ]
  },
  {
   "cell_type": "markdown",
   "metadata": {},
   "source": [
    "Based on the total score of the values, machine-learning is still the most valueable topic to learn, with python as a close second. Notice that a few values (noteably keras and pandas) have increased their rankings considerably.\n",
    "\n",
    "Note that you can compare the relevance of each tag to the other tags using these scores. In mathematical terms, for tags A and B:\n",
    "\n",
    "\\begin{align}\n",
    "    \\frac{Score_{A}}{Score_{B}} \\approx \\frac{1}{2}\\left( \\frac{TotalTags_{A}}{TotalTags_{B}} + \\frac{TotalViews_{A}}{TotalViews_{B}} \\right)\n",
    "\\end{align}\n",
    "\n",
    "While this comparison isn't perfect because I adjusted the distributions slightly in order to make the values on a scale from 0 to 100, I will demonstrate a few examples to show the value of this approximation."
   ]
  },
  {
   "cell_type": "code",
   "execution_count": 23,
   "metadata": {},
   "outputs": [
    {
     "data": {
      "text/html": [
       "<div>\n",
       "<style scoped>\n",
       "    .dataframe tbody tr th:only-of-type {\n",
       "        vertical-align: middle;\n",
       "    }\n",
       "\n",
       "    .dataframe tbody tr th {\n",
       "        vertical-align: top;\n",
       "    }\n",
       "\n",
       "    .dataframe thead th {\n",
       "        text-align: right;\n",
       "    }\n",
       "</style>\n",
       "<table border=\"1\" class=\"dataframe\">\n",
       "  <thead>\n",
       "    <tr style=\"text-align: right;\">\n",
       "      <th></th>\n",
       "      <th>Count</th>\n",
       "      <th>Views</th>\n",
       "    </tr>\n",
       "  </thead>\n",
       "  <tbody>\n",
       "    <tr>\n",
       "      <td>machine-learning</td>\n",
       "      <td>263</td>\n",
       "      <td>104873</td>\n",
       "    </tr>\n",
       "    <tr>\n",
       "      <td>python</td>\n",
       "      <td>202</td>\n",
       "      <td>120591</td>\n",
       "    </tr>\n",
       "    <tr>\n",
       "      <td>keras</td>\n",
       "      <td>91</td>\n",
       "      <td>74376</td>\n",
       "    </tr>\n",
       "    <tr>\n",
       "      <td>classification</td>\n",
       "      <td>66</td>\n",
       "      <td>26639</td>\n",
       "    </tr>\n",
       "  </tbody>\n",
       "</table>\n",
       "</div>"
      ],
      "text/plain": [
       "                  Count   Views\n",
       "machine-learning    263  104873\n",
       "python              202  120591\n",
       "keras                91   74376\n",
       "classification       66   26639"
      ]
     },
     "execution_count": 23,
     "metadata": {},
     "output_type": "execute_result"
    }
   ],
   "source": [
    "tag_metrics.iloc[[0, 1, 4, 7]]"
   ]
  },
  {
   "cell_type": "code",
   "execution_count": 24,
   "metadata": {},
   "outputs": [
    {
     "data": {
      "text/html": [
       "<div>\n",
       "<style scoped>\n",
       "    .dataframe tbody tr th:only-of-type {\n",
       "        vertical-align: middle;\n",
       "    }\n",
       "\n",
       "    .dataframe tbody tr th {\n",
       "        vertical-align: top;\n",
       "    }\n",
       "\n",
       "    .dataframe thead th {\n",
       "        text-align: right;\n",
       "    }\n",
       "</style>\n",
       "<table border=\"1\" class=\"dataframe\">\n",
       "  <thead>\n",
       "    <tr style=\"text-align: right;\">\n",
       "      <th></th>\n",
       "      <th>Actual</th>\n",
       "      <th>Estimate</th>\n",
       "    </tr>\n",
       "  </thead>\n",
       "  <tbody>\n",
       "    <tr>\n",
       "      <td>0</td>\n",
       "      <td>3.96</td>\n",
       "      <td>4.00</td>\n",
       "    </tr>\n",
       "    <tr>\n",
       "      <td>1</td>\n",
       "      <td>1.09</td>\n",
       "      <td>1.07</td>\n",
       "    </tr>\n",
       "    <tr>\n",
       "      <td>2</td>\n",
       "      <td>2.09</td>\n",
       "      <td>2.01</td>\n",
       "    </tr>\n",
       "  </tbody>\n",
       "</table>\n",
       "</div>"
      ],
      "text/plain": [
       "   Actual  Estimate\n",
       "0    3.96      4.00\n",
       "1    1.09      1.07\n",
       "2    2.09      2.01"
      ]
     },
     "execution_count": 24,
     "metadata": {},
     "output_type": "execute_result"
    }
   ],
   "source": [
    "ml_vs_class_raw = round(((263 / 66) + (104873 / 26639)) / 2, 2)\n",
    "ml_vs_class_score = round(100.0 / 25.0, 2)\n",
    "\n",
    "ml_vs_python_raw = round(((263 / 202) + (104873 / 120591)) / 2, 2)\n",
    "ml_vs_python_score = round(100.0 / 93.3, 2)\n",
    "\n",
    "keras_vs_class_raw = round(((91 / 66) + (74376 / 26639)) / 2, 2)\n",
    "keras_vs_class_score = round(50.2 / 25.0, 2)\n",
    "\n",
    "raw_vs_score = pd.DataFrame([\n",
    "    [ml_vs_class_raw, ml_vs_class_score],\n",
    "    [ml_vs_python_raw, ml_vs_python_score],\n",
    "    [keras_vs_class_raw, keras_vs_class_score]\n",
    "])\n",
    "\n",
    "raw_vs_score.columns = [\"Actual\", \"Estimate\"]\n",
    "raw_vs_score"
   ]
  },
  {
   "cell_type": "markdown",
   "metadata": {},
   "source": [
    "As seen by the table above, the approximation is close enough to make reasonable comparisons concerning the magnitude of the difference between the relevancy of certain tags. For example, machine-learning is approximately 4 times as relevant as classification because 100.0 / 25.0 = 4.0."
   ]
  },
  {
   "cell_type": "markdown",
   "metadata": {},
   "source": [
    "## 5. Determining How Frequently Tags Appear Together\n",
    "\n",
    "Now that I have determined which data science topics are most relevant, I will now examine how frequently each of the top ten topics appear within the same questions. I will calculate the following using two separate techniques:\n",
    "- The total number of questions that contain both tag A and B\n",
    "- The percentage of questions that contain tag A that also contain tag B"
   ]
  },
  {
   "cell_type": "markdown",
   "metadata": {},
   "source": [
    "### a) The Relationship Between Tags\n",
    "\n",
    "First, I will create a dictionary that contains the top ten most relevant data science topics as keys. After I loop through the dictionary, the values for each of these keys will be another dictionary that contains the total number of questions the key tag shares with every other tag in the top ten."
   ]
  },
  {
   "cell_type": "code",
   "execution_count": 25,
   "metadata": {},
   "outputs": [],
   "source": [
    "relationships = {\"machine-learning\": {},\n",
    "                 \"python\": {},\n",
    "                 \"deep-learning\": {},\n",
    "                 \"scikit-learn\": {},\n",
    "                 \"keras\": {},\n",
    "                 \"neural-network\": {},\n",
    "                 \"tensorflow\": {},\n",
    "                 \"classification\": {},\n",
    "                 \"nlp\": {},\n",
    "                 \"pandas\": {}\n",
    "                }\n",
    "\n",
    "for row in questions[\"Tags\"]:\n",
    "    tags = row.replace(\"><\", \" \").replace(\"<\", \"\").replace(\">\", \"\").split(\" \")\n",
    "    for tag in tags:\n",
    "        if tag in tag_names[:10]:\n",
    "            for value in tags:\n",
    "                if value in tag_names[:10]:\n",
    "                    if value in relationships[tag]:\n",
    "                        relationships[tag][value] += 1\n",
    "                    else:\n",
    "                        relationships[tag][value] = 1\n",
    "        elif tag in tag_names[:10]:\n",
    "            for value in tags:\n",
    "                if value in tag_names[:10]:\n",
    "                    relationships[tag][value] = 1"
   ]
  },
  {
   "cell_type": "markdown",
   "metadata": {},
   "source": [
    "Next, I will convert the dictionary above into a pandas dataframe and display the dataframe as a table."
   ]
  },
  {
   "cell_type": "code",
   "execution_count": 26,
   "metadata": {},
   "outputs": [
    {
     "data": {
      "text/html": [
       "<div>\n",
       "<style scoped>\n",
       "    .dataframe tbody tr th:only-of-type {\n",
       "        vertical-align: middle;\n",
       "    }\n",
       "\n",
       "    .dataframe tbody tr th {\n",
       "        vertical-align: top;\n",
       "    }\n",
       "\n",
       "    .dataframe thead th {\n",
       "        text-align: right;\n",
       "    }\n",
       "</style>\n",
       "<table border=\"1\" class=\"dataframe\">\n",
       "  <thead>\n",
       "    <tr style=\"text-align: right;\">\n",
       "      <th></th>\n",
       "      <th>machine-learning</th>\n",
       "      <th>python</th>\n",
       "      <th>deep-learning</th>\n",
       "      <th>scikit-learn</th>\n",
       "      <th>keras</th>\n",
       "      <th>neural-network</th>\n",
       "      <th>tensorflow</th>\n",
       "      <th>classification</th>\n",
       "      <th>nlp</th>\n",
       "      <th>pandas</th>\n",
       "    </tr>\n",
       "  </thead>\n",
       "  <tbody>\n",
       "    <tr>\n",
       "      <td>machine-learning</td>\n",
       "      <td>263</td>\n",
       "      <td>59</td>\n",
       "      <td>54</td>\n",
       "      <td>29</td>\n",
       "      <td>18</td>\n",
       "      <td>25</td>\n",
       "      <td>15</td>\n",
       "      <td>24</td>\n",
       "      <td>12</td>\n",
       "      <td>4</td>\n",
       "    </tr>\n",
       "    <tr>\n",
       "      <td>python</td>\n",
       "      <td>59</td>\n",
       "      <td>202</td>\n",
       "      <td>12</td>\n",
       "      <td>39</td>\n",
       "      <td>24</td>\n",
       "      <td>6</td>\n",
       "      <td>20</td>\n",
       "      <td>9</td>\n",
       "      <td>7</td>\n",
       "      <td>34</td>\n",
       "    </tr>\n",
       "    <tr>\n",
       "      <td>deep-learning</td>\n",
       "      <td>54</td>\n",
       "      <td>12</td>\n",
       "      <td>107</td>\n",
       "      <td>0</td>\n",
       "      <td>21</td>\n",
       "      <td>32</td>\n",
       "      <td>17</td>\n",
       "      <td>6</td>\n",
       "      <td>7</td>\n",
       "      <td>0</td>\n",
       "    </tr>\n",
       "    <tr>\n",
       "      <td>scikit-learn</td>\n",
       "      <td>29</td>\n",
       "      <td>39</td>\n",
       "      <td>0</td>\n",
       "      <td>91</td>\n",
       "      <td>4</td>\n",
       "      <td>2</td>\n",
       "      <td>1</td>\n",
       "      <td>7</td>\n",
       "      <td>2</td>\n",
       "      <td>12</td>\n",
       "    </tr>\n",
       "    <tr>\n",
       "      <td>keras</td>\n",
       "      <td>18</td>\n",
       "      <td>24</td>\n",
       "      <td>21</td>\n",
       "      <td>4</td>\n",
       "      <td>91</td>\n",
       "      <td>15</td>\n",
       "      <td>34</td>\n",
       "      <td>2</td>\n",
       "      <td>1</td>\n",
       "      <td>0</td>\n",
       "    </tr>\n",
       "    <tr>\n",
       "      <td>neural-network</td>\n",
       "      <td>25</td>\n",
       "      <td>6</td>\n",
       "      <td>32</td>\n",
       "      <td>2</td>\n",
       "      <td>15</td>\n",
       "      <td>72</td>\n",
       "      <td>7</td>\n",
       "      <td>5</td>\n",
       "      <td>4</td>\n",
       "      <td>0</td>\n",
       "    </tr>\n",
       "    <tr>\n",
       "      <td>tensorflow</td>\n",
       "      <td>15</td>\n",
       "      <td>20</td>\n",
       "      <td>17</td>\n",
       "      <td>1</td>\n",
       "      <td>34</td>\n",
       "      <td>7</td>\n",
       "      <td>71</td>\n",
       "      <td>2</td>\n",
       "      <td>1</td>\n",
       "      <td>0</td>\n",
       "    </tr>\n",
       "    <tr>\n",
       "      <td>classification</td>\n",
       "      <td>24</td>\n",
       "      <td>9</td>\n",
       "      <td>6</td>\n",
       "      <td>7</td>\n",
       "      <td>2</td>\n",
       "      <td>5</td>\n",
       "      <td>2</td>\n",
       "      <td>66</td>\n",
       "      <td>2</td>\n",
       "      <td>1</td>\n",
       "    </tr>\n",
       "    <tr>\n",
       "      <td>nlp</td>\n",
       "      <td>12</td>\n",
       "      <td>7</td>\n",
       "      <td>7</td>\n",
       "      <td>2</td>\n",
       "      <td>1</td>\n",
       "      <td>4</td>\n",
       "      <td>1</td>\n",
       "      <td>2</td>\n",
       "      <td>62</td>\n",
       "      <td>1</td>\n",
       "    </tr>\n",
       "    <tr>\n",
       "      <td>pandas</td>\n",
       "      <td>4</td>\n",
       "      <td>34</td>\n",
       "      <td>0</td>\n",
       "      <td>12</td>\n",
       "      <td>0</td>\n",
       "      <td>0</td>\n",
       "      <td>0</td>\n",
       "      <td>1</td>\n",
       "      <td>1</td>\n",
       "      <td>51</td>\n",
       "    </tr>\n",
       "  </tbody>\n",
       "</table>\n",
       "</div>"
      ],
      "text/plain": [
       "                  machine-learning  python  deep-learning  scikit-learn  \\\n",
       "machine-learning               263      59             54            29   \n",
       "python                          59     202             12            39   \n",
       "deep-learning                   54      12            107             0   \n",
       "scikit-learn                    29      39              0            91   \n",
       "keras                           18      24             21             4   \n",
       "neural-network                  25       6             32             2   \n",
       "tensorflow                      15      20             17             1   \n",
       "classification                  24       9              6             7   \n",
       "nlp                             12       7              7             2   \n",
       "pandas                           4      34              0            12   \n",
       "\n",
       "                  keras  neural-network  tensorflow  classification  nlp  \\\n",
       "machine-learning     18              25          15              24   12   \n",
       "python               24               6          20               9    7   \n",
       "deep-learning        21              32          17               6    7   \n",
       "scikit-learn          4               2           1               7    2   \n",
       "keras                91              15          34               2    1   \n",
       "neural-network       15              72           7               5    4   \n",
       "tensorflow           34               7          71               2    1   \n",
       "classification        2               5           2              66    2   \n",
       "nlp                   1               4           1               2   62   \n",
       "pandas                0               0           0               1    1   \n",
       "\n",
       "                  pandas  \n",
       "machine-learning       4  \n",
       "python                34  \n",
       "deep-learning          0  \n",
       "scikit-learn          12  \n",
       "keras                  0  \n",
       "neural-network         0  \n",
       "tensorflow             0  \n",
       "classification         1  \n",
       "nlp                    1  \n",
       "pandas                51  "
      ]
     },
     "execution_count": 26,
     "metadata": {},
     "output_type": "execute_result"
    }
   ],
   "source": [
    "tag_relationships = pd.DataFrame.from_dict(relationships, orient='index').fillna(0).astype(int)\n",
    "tag_relationships = tag_relationships.iloc[[*range(10)], [0, 1, 2, 4, 3, 7, 5, 6, 8, 9]] # reorders the columns so they match the order of the rows\n",
    "tag_relationships"
   ]
  },
  {
   "cell_type": "markdown",
   "metadata": {},
   "source": [
    "Note that the values moving diagonally from the top left to the bottom right are instances in which the value appears with itself. Machine-learning and python appear together 59 times, more frequently than any other tag pair (that's not paired with itself).\n",
    "\n",
    "However, since machine-learning and python are the most popular tags by a large margin, the fact that they appear together on many questions does not necessarily ensure the topics are strongly related. In order to determine the relationships' strength, I will create a new dictionary that converts the gross sum into a percentage of total.  "
   ]
  },
  {
   "cell_type": "code",
   "execution_count": 27,
   "metadata": {},
   "outputs": [],
   "source": [
    "relative_relationships = {}\n",
    "\n",
    "for tag in relationships:\n",
    "    relative_relationships[tag] = {}\n",
    "    for relation in relationships[tag]:\n",
    "        temp_rel = round(relationships[tag][relation] * 100 / relationships[tag][tag], 1)\n",
    "        relative_relationships[tag][relation] = temp_rel"
   ]
  },
  {
   "cell_type": "code",
   "execution_count": 28,
   "metadata": {},
   "outputs": [
    {
     "data": {
      "text/html": [
       "<div>\n",
       "<style scoped>\n",
       "    .dataframe tbody tr th:only-of-type {\n",
       "        vertical-align: middle;\n",
       "    }\n",
       "\n",
       "    .dataframe tbody tr th {\n",
       "        vertical-align: top;\n",
       "    }\n",
       "\n",
       "    .dataframe thead th {\n",
       "        text-align: right;\n",
       "    }\n",
       "</style>\n",
       "<table border=\"1\" class=\"dataframe\">\n",
       "  <thead>\n",
       "    <tr style=\"text-align: right;\">\n",
       "      <th></th>\n",
       "      <th>machine-learning</th>\n",
       "      <th>python</th>\n",
       "      <th>deep-learning</th>\n",
       "      <th>scikit-learn</th>\n",
       "      <th>keras</th>\n",
       "      <th>neural-network</th>\n",
       "      <th>tensorflow</th>\n",
       "      <th>classification</th>\n",
       "      <th>nlp</th>\n",
       "      <th>pandas</th>\n",
       "    </tr>\n",
       "  </thead>\n",
       "  <tbody>\n",
       "    <tr>\n",
       "      <td>machine-learning</td>\n",
       "      <td>100.0</td>\n",
       "      <td>22.4</td>\n",
       "      <td>20.5</td>\n",
       "      <td>11.0</td>\n",
       "      <td>6.8</td>\n",
       "      <td>9.5</td>\n",
       "      <td>5.7</td>\n",
       "      <td>9.1</td>\n",
       "      <td>4.6</td>\n",
       "      <td>1.5</td>\n",
       "    </tr>\n",
       "    <tr>\n",
       "      <td>python</td>\n",
       "      <td>29.2</td>\n",
       "      <td>100.0</td>\n",
       "      <td>5.9</td>\n",
       "      <td>19.3</td>\n",
       "      <td>11.9</td>\n",
       "      <td>3.0</td>\n",
       "      <td>9.9</td>\n",
       "      <td>4.5</td>\n",
       "      <td>3.5</td>\n",
       "      <td>16.8</td>\n",
       "    </tr>\n",
       "    <tr>\n",
       "      <td>deep-learning</td>\n",
       "      <td>50.5</td>\n",
       "      <td>11.2</td>\n",
       "      <td>100.0</td>\n",
       "      <td>0.0</td>\n",
       "      <td>19.6</td>\n",
       "      <td>29.9</td>\n",
       "      <td>15.9</td>\n",
       "      <td>5.6</td>\n",
       "      <td>6.5</td>\n",
       "      <td>0.0</td>\n",
       "    </tr>\n",
       "    <tr>\n",
       "      <td>scikit-learn</td>\n",
       "      <td>31.9</td>\n",
       "      <td>42.9</td>\n",
       "      <td>0.0</td>\n",
       "      <td>100.0</td>\n",
       "      <td>4.4</td>\n",
       "      <td>2.2</td>\n",
       "      <td>1.1</td>\n",
       "      <td>7.7</td>\n",
       "      <td>2.2</td>\n",
       "      <td>13.2</td>\n",
       "    </tr>\n",
       "    <tr>\n",
       "      <td>keras</td>\n",
       "      <td>19.8</td>\n",
       "      <td>26.4</td>\n",
       "      <td>23.1</td>\n",
       "      <td>4.4</td>\n",
       "      <td>100.0</td>\n",
       "      <td>16.5</td>\n",
       "      <td>37.4</td>\n",
       "      <td>2.2</td>\n",
       "      <td>1.1</td>\n",
       "      <td>0.0</td>\n",
       "    </tr>\n",
       "    <tr>\n",
       "      <td>neural-network</td>\n",
       "      <td>34.7</td>\n",
       "      <td>8.3</td>\n",
       "      <td>44.4</td>\n",
       "      <td>2.8</td>\n",
       "      <td>20.8</td>\n",
       "      <td>100.0</td>\n",
       "      <td>9.7</td>\n",
       "      <td>6.9</td>\n",
       "      <td>5.6</td>\n",
       "      <td>0.0</td>\n",
       "    </tr>\n",
       "    <tr>\n",
       "      <td>tensorflow</td>\n",
       "      <td>21.1</td>\n",
       "      <td>28.2</td>\n",
       "      <td>23.9</td>\n",
       "      <td>1.4</td>\n",
       "      <td>47.9</td>\n",
       "      <td>9.9</td>\n",
       "      <td>100.0</td>\n",
       "      <td>2.8</td>\n",
       "      <td>1.4</td>\n",
       "      <td>0.0</td>\n",
       "    </tr>\n",
       "    <tr>\n",
       "      <td>classification</td>\n",
       "      <td>36.4</td>\n",
       "      <td>13.6</td>\n",
       "      <td>9.1</td>\n",
       "      <td>10.6</td>\n",
       "      <td>3.0</td>\n",
       "      <td>7.6</td>\n",
       "      <td>3.0</td>\n",
       "      <td>100.0</td>\n",
       "      <td>3.0</td>\n",
       "      <td>1.5</td>\n",
       "    </tr>\n",
       "    <tr>\n",
       "      <td>nlp</td>\n",
       "      <td>19.4</td>\n",
       "      <td>11.3</td>\n",
       "      <td>11.3</td>\n",
       "      <td>3.2</td>\n",
       "      <td>1.6</td>\n",
       "      <td>6.5</td>\n",
       "      <td>1.6</td>\n",
       "      <td>3.2</td>\n",
       "      <td>100.0</td>\n",
       "      <td>1.6</td>\n",
       "    </tr>\n",
       "    <tr>\n",
       "      <td>pandas</td>\n",
       "      <td>7.8</td>\n",
       "      <td>66.7</td>\n",
       "      <td>0.0</td>\n",
       "      <td>23.5</td>\n",
       "      <td>0.0</td>\n",
       "      <td>0.0</td>\n",
       "      <td>0.0</td>\n",
       "      <td>2.0</td>\n",
       "      <td>2.0</td>\n",
       "      <td>100.0</td>\n",
       "    </tr>\n",
       "  </tbody>\n",
       "</table>\n",
       "</div>"
      ],
      "text/plain": [
       "                  machine-learning  python  deep-learning  scikit-learn  \\\n",
       "machine-learning             100.0    22.4           20.5          11.0   \n",
       "python                        29.2   100.0            5.9          19.3   \n",
       "deep-learning                 50.5    11.2          100.0           0.0   \n",
       "scikit-learn                  31.9    42.9            0.0         100.0   \n",
       "keras                         19.8    26.4           23.1           4.4   \n",
       "neural-network                34.7     8.3           44.4           2.8   \n",
       "tensorflow                    21.1    28.2           23.9           1.4   \n",
       "classification                36.4    13.6            9.1          10.6   \n",
       "nlp                           19.4    11.3           11.3           3.2   \n",
       "pandas                         7.8    66.7            0.0          23.5   \n",
       "\n",
       "                  keras  neural-network  tensorflow  classification    nlp  \\\n",
       "machine-learning    6.8             9.5         5.7             9.1    4.6   \n",
       "python             11.9             3.0         9.9             4.5    3.5   \n",
       "deep-learning      19.6            29.9        15.9             5.6    6.5   \n",
       "scikit-learn        4.4             2.2         1.1             7.7    2.2   \n",
       "keras             100.0            16.5        37.4             2.2    1.1   \n",
       "neural-network     20.8           100.0         9.7             6.9    5.6   \n",
       "tensorflow         47.9             9.9       100.0             2.8    1.4   \n",
       "classification      3.0             7.6         3.0           100.0    3.0   \n",
       "nlp                 1.6             6.5         1.6             3.2  100.0   \n",
       "pandas              0.0             0.0         0.0             2.0    2.0   \n",
       "\n",
       "                  pandas  \n",
       "machine-learning     1.5  \n",
       "python              16.8  \n",
       "deep-learning        0.0  \n",
       "scikit-learn        13.2  \n",
       "keras                0.0  \n",
       "neural-network       0.0  \n",
       "tensorflow           0.0  \n",
       "classification       1.5  \n",
       "nlp                  1.6  \n",
       "pandas             100.0  "
      ]
     },
     "execution_count": 28,
     "metadata": {},
     "output_type": "execute_result"
    }
   ],
   "source": [
    "rel_relationships = pd.DataFrame.from_dict(relative_relationships, orient='index').fillna(0).astype(float)\n",
    "rel_relationships = rel_relationships.iloc[[*range(10)], [0, 1, 2, 4, 3, 7, 5, 6, 8, 9]]\n",
    "rel_relationships"
   ]
  },
  {
   "cell_type": "markdown",
   "metadata": {},
   "source": [
    "This chart is more useful. For example, while machine-learning and python are paired togther most often, only 29.2% of python questions are also machine-learning questions. In contrast, 50.5% of questions involving deep-learning also involve machine-learning, indicating these two data science topics are more closely related."
   ]
  },
  {
   "cell_type": "markdown",
   "metadata": {},
   "source": [
    "### b) Displaying the Relationships Between Tags\n",
    "\n",
    "While the two tables above are useful, it still takes some time to determine the strength of the relationship  between different tags. An excellent way to speed up the time in which a person can visualize the relationships between tags is to add color. Therefore, I will create a heatmap for each of the tables above."
   ]
  },
  {
   "cell_type": "code",
   "execution_count": 29,
   "metadata": {
    "scrolled": true
   },
   "outputs": [
    {
     "data": {
      "image/png": "[encoded data removed]",
      "text/plain": [
       "<Figure size 1440x576 with 4 Axes>"
      ]
     },
     "metadata": {
      "needs_background": "light"
     },
     "output_type": "display_data"
    }
   ],
   "source": [
    "fig = plt.figure(figsize=(20,8))\n",
    "\n",
    "ax1 = fig.add_subplot(1, 2, 1)\n",
    "ax2 = fig.add_subplot(1, 2, 2)\n",
    "\n",
    "sns.heatmap(tag_relationships, mask=((tag_relationships > 60) | (tag_relationships == 51)), cmap=\"Greens\", annot=True, square=True, fmt=\"d\", vmax=60, ax=ax1)\n",
    "sns.heatmap(tag_relationships, mask=((tag_relationships <= 60) & (tag_relationships != 51)), cmap=\"gray\", annot=True, square=True, fmt=\"d\", vmax=50, cbar=False, ax=ax1)\n",
    "\n",
    "sns.heatmap(rel_relationships, mask=(rel_relationships > 70), cmap=\"Blues\", annot=True, square=True, fmt=\".1f\", vmax=67, ax=ax2)\n",
    "\n",
    "ax1.tick_params(axis=\"both\", which=\"both\", top=False, bottom=False, left=False)\n",
    "ax2.tick_params(axis=\"both\", which=\"both\", top=False, bottom=False, left=False)\n",
    "ax1.set_title(\"Number of Times Tags Appear Together\", fontsize=20, y=1.01)\n",
    "ax2.set_title(\"Percentage of Times Tags Appear Together\", fontsize=20, y=1.01)\n",
    "\n",
    "fig.tight_layout(pad=1)\n",
    "\n",
    "plt.show()"
   ]
  },
  {
   "cell_type": "markdown",
   "metadata": {},
   "source": [
    "These two heatmaps make it very easy to determine how strongly related the data science topics are to one another. For example, in the first heat map, it takes less than a second to realize that machine-learning and python share more questions than any other pair of topics. Similarly, in the second heatmap, the darkest blue square quickly catches the eye and indicates that the majority of pandas questions involve python (pandas is a python library, so technically 100% of pandas questions involve python).\n",
    "\n",
    "Based on these heatmaps, it is paramount that anyone studying data science studies both machine-learning and python, as they are the two most popular subjects by a large margin. When deciding whether to specialize in a specific data science subfield, use the chart to determine which related skills you might also need to learn. For example, if a person wants to become an expert on neural networks, they should also study machine learning and deep learning (and potentially keras as well), as many neural network questions require knowledge on these topics."
   ]
  },
  {
   "cell_type": "markdown",
   "metadata": {},
   "source": [
    "## 6. Results\n",
    "\n",
    "While this project will continue in part II of this project, a few conclusions can be made simply from examining the first part of the project. Part II will contain information about how data science topics have changed over time and relies on a different dataset.\n",
    "\n",
    "After preparing the data, I analyzed two separate aspects of the data science tags in order help data scientist hopefuls determine which subjects to study:\n",
    "- The most relevant data science subfields\n",
    "- How closely intertwined subfields with the top ten are to one another\n",
    "\n",
    "The most relevant data science topics (based on the scoring system I developed) are machine learning (100.0) and python (93.3) by a large margin. Basically, students should have a baseline knowledge of all the top ten subfields and then specialize in those areas they are most interested in.\n",
    "\n",
    "It is useful to examine how interdependent data science subfields are so that it is easier to know which topics to study if a person is thinking about focusing on a given subfield. For example, if a student trying to learn more about tensorflow, knowing keras and python will be helpful as they are tagged in 47.9% and 28.2% of tensorflow questions respectively."
   ]
  }
 ],
 "metadata": {
  "kernelspec": {
   "display_name": "Python 3",
   "language": "python",
   "name": "python3"
  },
  "language_info": {
   "codemirror_mode": {
    "name": "ipython",
    "version": 3
   },
   "file_extension": ".py",
   "mimetype": "text/x-python",
   "name": "python",
   "nbconvert_exporter": "python",
   "pygments_lexer": "ipython3",
   "version": "3.7.4"
  }
 },
 "nbformat": 4,
 "nbformat_minor": 2
}
